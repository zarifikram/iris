{
 "cells": [
  {
   "cell_type": "code",
   "execution_count": 1,
   "metadata": {
    "cellView": "form",
    "id": "_F0jWGQZDgM3"
   },
   "outputs": [],
   "source": [
    "# Licensed under the Apache License, Version 2.0 (the \"License\");\n",
    "# you may not use this file except in compliance with the License.\n",
    "# You may obtain a copy of the License at\n",
    "#\n",
    "# https://www.apache.org/licenses/LICENSE-2.0\n",
    "#\n",
    "# Unless required by applicable law or agreed to in writing, software\n",
    "# distributed under the License is distributed on an \"AS IS\" BASIS,\n",
    "# WITHOUT WARRANTIES OR CONDITIONS OF ANY KIND, either express or implied.\n",
    "# See the License for the specific language governing permissions and\n",
    "# limitations under the License."
   ]
  },
  {
   "cell_type": "markdown",
   "metadata": {},
   "source": [
    "Credits to https://github.com/google-research/rliable"
   ]
  },
  {
   "cell_type": "code",
   "execution_count": 2,
   "metadata": {
    "id": "CrcaOCgbJLv6"
   },
   "outputs": [],
   "source": [
    "import json\n",
    "import math\n",
    "from pathlib import Path\n",
    "\n",
    "import matplotlib.pyplot as plt\n",
    "import matplotlib.patches as mpatches\n",
    "from matplotlib.ticker import MaxNLocator\n",
    "from matplotlib import rcParams\n",
    "from matplotlib import rc\n",
    "import numpy as np\n",
    "import pandas as pd\n",
    "import seaborn as sns\n",
    "\n",
    "from rliable import library as rly\n",
    "from rliable import metrics\n",
    "from rliable import plot_utils\n",
    "\n",
    "rcParams['legend.loc'] = 'best'\n",
    "rcParams['pdf.fonttype'] = 42\n",
    "rcParams['ps.fonttype'] = 42\n",
    "rc('text', usetex=False)\n",
    "RAND_STATE = np.random.RandomState(42)\n",
    "sns.set_style(\"white\")\n",
    "\n",
    "Path('figures').mkdir(exist_ok=True, parents=False)"
   ]
  },
  {
   "cell_type": "code",
   "execution_count": 3,
   "metadata": {
    "cellView": "form",
    "id": "S6FnrWyKnoHu"
   },
   "outputs": [],
   "source": [
    "def score_normalization(res_dict, min_scores, max_scores):\n",
    "    games = res_dict.keys()\n",
    "    norm_scores = {}\n",
    "    for game, scores in res_dict.items():\n",
    "        norm_scores[game] = (scores - min_scores[game])/(max_scores[game] - min_scores[game])\n",
    "    return norm_scores\n",
    "\n",
    "def convert_to_matrix(score_dict):\n",
    "    keys = sorted(list(score_dict.keys()))\n",
    "    return np.stack([score_dict[k] for k in keys], axis=1)"
   ]
  },
  {
   "cell_type": "code",
   "execution_count": 4,
   "metadata": {
    "id": "58NWt0zVvT_L"
   },
   "outputs": [],
   "source": [
    "StratifiedBootstrap = rly.StratifiedBootstrap\n",
    "\n",
    "IQM = lambda x: metrics.aggregate_iqm(x) # Interquartile Mean\n",
    "OG = lambda x: metrics.aggregate_optimality_gap(x, 1.0) # Optimality Gap\n",
    "MEAN = lambda x: metrics.aggregate_mean(x)\n",
    "MEDIAN = lambda x: metrics.aggregate_median(x)"
   ]
  },
  {
   "cell_type": "code",
   "execution_count": 5,
   "metadata": {
    "cellView": "form",
    "id": "ToCkLC2irWK-"
   },
   "outputs": [],
   "source": [
    "ATARI_100K_GAMES = [\n",
    "    'Alien', 'Amidar', 'Assault', 'Asterix', 'BankHeist', 'BattleZone',\n",
    "    'Boxing', 'Breakout', 'ChopperCommand', 'CrazyClimber', 'DemonAttack',\n",
    "    'Freeway', 'Frostbite', 'Gopher', 'Hero', 'Jamesbond', 'Kangaroo',\n",
    "    'Krull', 'KungFuMaster', 'MsPacman', 'Pong', 'PrivateEye', 'Qbert',\n",
    "    'RoadRunner', 'Seaquest', 'UpNDown'\n",
    "]"
   ]
  },
  {
   "cell_type": "code",
   "execution_count": 6,
   "metadata": {
    "cellView": "form",
    "id": "PqvaxPEIpACt"
   },
   "outputs": [],
   "source": [
    "def read_curl_scores():\n",
    "    df = pd.read_json('data/CURL_10_evals.json', orient='records')\n",
    "    score_dict = {'Max': {}, 'Final': {}}\n",
    "    for game in ATARI_100K_GAMES:\n",
    "        game_df = df[df['game'] == game]\n",
    "        score_dict['Final'][game] = game_df['HNS'].values\n",
    "        score_dict['Max'][game] = game_df['Max HNS'].values\n",
    "    score_matrices = {}\n",
    "    for key, val in score_dict.items():\n",
    "        score_matrices[key] = convert_to_matrix(val) \n",
    "    return score_dict['Final'], score_matrices['Final']\n",
    "  \n",
    "def load_json_scores(algorithm_name, normalize=True):\n",
    "    path = Path('data') / f'{algorithm_name}.json'\n",
    "    with path.open('r') as f:\n",
    "        raw_scores = json.load(f)\n",
    "    raw_scores = {game: np.array(val) for game, val in raw_scores.items()}\n",
    "    if normalize:\n",
    "        hn_scores = score_normalization(raw_scores, RANDOM_SCORES, HUMAN_SCORES)\n",
    "        hn_score_matrix = convert_to_matrix(hn_scores)\n",
    "    else:\n",
    "        hn_scores, hn_score_matrix = None, None\n",
    "    return hn_scores, hn_score_matrix, raw_scores\n",
    "\n",
    "def save_fig(fig, name):\n",
    "    fig.savefig(f'figures/{name}.pdf', format='pdf', bbox_inches='tight')"
   ]
  },
  {
   "cell_type": "code",
   "execution_count": 7,
   "metadata": {},
   "outputs": [],
   "source": [
    "_, _, raw_scores_random = load_json_scores('RANDOM', normalize=False)\n",
    "_, _, raw_scores_human = load_json_scores('HUMAN', normalize=False)\n",
    "RANDOM_SCORES = {k: v[0] for k, v in raw_scores_random.items()}\n",
    "HUMAN_SCORES = {k: v[0] for k, v in raw_scores_human.items()}"
   ]
  },
  {
   "cell_type": "code",
   "execution_count": 8,
   "metadata": {
    "colab": {
     "base_uri": "https://localhost:8080/"
    },
    "id": "3ls4nMkmBWb8",
    "outputId": "686d429e-3df3-49b5-d176-da980b33b85b"
   },
   "outputs": [],
   "source": [
    "score_dict_muzero, score_muzero, raw_scores_muzero = load_json_scores('MuZero')\n",
    "score_dict_efficientzero, score_efficientzero, raw_scores_efficientzero = load_json_scores('EfficientZero')\n",
    "score_dict_simple, score_simple, _ = load_json_scores('SimPLe')\n",
    "score_dict_curl, score_curl = read_curl_scores()\n",
    "score_dict_drq_eps, score_drq_eps, _ = load_json_scores('DrQ(eps)')\n",
    "score_dict_spr, score_spr, _ = load_json_scores('SPR')\n",
    "score_dict_iris, score_iris, _ = load_json_scores('IRIS')\n",
    "\n",
    "score_data_dict_games = {\n",
    "    'MuZero': score_dict_muzero,\n",
    "    'EfficientZero': score_dict_efficientzero,\n",
    "    'SimPLe': score_dict_simple,\n",
    "    'CURL': score_dict_curl,\n",
    "    'DrQ': score_dict_drq_eps, \n",
    "    'SPR': score_dict_spr,\n",
    "    'IRIS (ours)': score_dict_iris\n",
    "}\n",
    "\n",
    "all_score_dict = {\n",
    "    'MuZero': score_muzero, \n",
    "    'EfficientZero': score_efficientzero,\n",
    "    'SimPLe': score_simple,\n",
    "    'CURL': score_curl,\n",
    "    'DrQ': score_drq_eps, \n",
    "    'SPR': score_spr,\n",
    "    'IRIS (ours)': score_iris\n",
    "}"
   ]
  },
  {
   "cell_type": "code",
   "execution_count": 9,
   "metadata": {
    "id": "43m4aASsQ-nU"
   },
   "outputs": [],
   "source": [
    "colors = sns.color_palette('colorblind')\n",
    "xlabels = ['SimPLe', 'CURL', 'DrQ', 'SPR', 'IRIS (ours)']\n",
    "color_idxs = [7, 4, 2, 1, 0]\n",
    "ATARI_100K_COLOR_DICT = dict(zip(xlabels, [colors[idx] for idx in color_idxs]))"
   ]
  },
  {
   "cell_type": "markdown",
   "metadata": {
    "id": "KgtEQsA08sIG"
   },
   "source": [
    "# Mean, Median, IQM and Optimality Gap"
   ]
  },
  {
   "cell_type": "code",
   "execution_count": 10,
   "metadata": {
    "colab": {
     "base_uri": "https://localhost:8080/"
    },
    "id": "3RhatO5S8tWt",
    "outputId": "84aa63d0-8fc4-46aa-ddd2-9d5951461fd7"
   },
   "outputs": [],
   "source": [
    "aggregate_func = lambda x: np.array([MEAN(x), MEDIAN(x), IQM(x), OG(x)])\n",
    "aggregate_scores, aggregate_interval_estimates = rly.get_interval_estimates(all_score_dict, aggregate_func, reps=50000)"
   ]
  },
  {
   "cell_type": "code",
   "execution_count": 11,
   "metadata": {},
   "outputs": [
    {
     "name": "stdout",
     "output_type": "stream",
     "text": [
      "MuZero        :   1 runs\n",
      "EfficientZero :   1 runs\n",
      "SimPLe        :   5 runs\n",
      "CURL          : 100 runs\n",
      "DrQ           : 100 runs\n",
      "SPR           : 100 runs\n",
      "IRIS (ours)   :   3 runs\n"
     ]
    }
   ],
   "source": [
    "for algo in aggregate_scores.keys():\n",
    "    n_runs, n_games = all_score_dict[algo].shape\n",
    "    assert n_games == len(ATARI_100K_GAMES)\n",
    "    print(f\"{algo.ljust(14)}: {n_runs:3d} runs\")"
   ]
  },
  {
   "cell_type": "code",
   "execution_count": 12,
   "metadata": {},
   "outputs": [
    {
     "data": {
      "image/png": "[encoded data removed]",
      "text/plain": [
       "<Figure size 1080x252 with 3 Axes>"
      ]
     },
     "metadata": {},
     "output_type": "display_data"
    }
   ],
   "source": [
    "algorithms = ['SimPLe', 'CURL', 'DrQ', 'SPR', 'IRIS (ours)']\n",
    "fig, axes = plot_utils.plot_interval_estimates(\n",
    "    {k: v[:3] for k, v in aggregate_scores.items()}, \n",
    "    {k: v[:, :3] for k, v in aggregate_interval_estimates.items()},\n",
    "    metric_names = ['Mean', 'Median', 'Interquartile Mean'],\n",
    "    algorithms=algorithms,\n",
    "    colors=ATARI_100K_COLOR_DICT,\n",
    "    xlabel_y_coordinate=-0.1,\n",
    "    xlabel='Human Normalized Score', \n",
    "    subfigure_width=5,\n",
    "    row_height=0.7)\n",
    "plt.show()\n",
    "save_fig(fig, 'aggregates')"
   ]
  },
  {
   "cell_type": "code",
   "execution_count": 13,
   "metadata": {},
   "outputs": [
    {
     "data": {
      "image/png": "[encoded data removed]",
      "text/plain": [
       "<Figure size 244.8x133.2 with 1 Axes>"
      ]
     },
     "metadata": {},
     "output_type": "display_data"
    }
   ],
   "source": [
    "algorithms = ['SimPLe', 'CURL', 'DrQ', 'SPR', 'IRIS (ours)']\n",
    "fig, axes = plot_utils.plot_interval_estimates(\n",
    "    {k: v[3:4] for k, v in aggregate_scores.items()}, \n",
    "    {k: v[:, 3:4] for k, v in aggregate_interval_estimates.items()},\n",
    "    metric_names = ['Optimality Gap'],\n",
    "    algorithms=algorithms,\n",
    "    colors=ATARI_100K_COLOR_DICT,\n",
    "    xlabel_y_coordinate=-0.3,\n",
    "    xlabel='Human Normalized Score')\n",
    "plt.show()\n",
    "save_fig(fig, 'optimality_gap')"
   ]
  },
  {
   "cell_type": "markdown",
   "metadata": {
    "id": "QM9CLBft9Bqs"
   },
   "source": [
    "# Performance profile"
   ]
  },
  {
   "cell_type": "code",
   "execution_count": null,
   "metadata": {
    "colab": {
     "base_uri": "https://localhost:8080/"
    },
    "id": "v1xRtwkwwtPo",
    "outputId": "305cd55a-5d1a-41a5-b32d-2b955f09f320"
   },
   "outputs": [],
   "source": [
    "algorithms = ['SimPLe', 'CURL', 'DrQ', 'SPR', 'IRIS (ours)']\n",
    "score_dict = {key: all_score_dict[key] for key in algorithms}\n",
    "ATARI_100K_TAU = np.linspace(0.0, 8.0, 201)\n",
    "reps = 2000\n",
    "\n",
    "score_distributions, score_distributions_cis = rly.create_performance_profile(score_dict, ATARI_100K_TAU, reps=reps)"
   ]
  },
  {
   "cell_type": "code",
   "execution_count": null,
   "metadata": {
    "colab": {
     "base_uri": "https://localhost:8080/",
     "height": 348
    },
    "id": "PGMKH2sGINQj",
    "outputId": "d20552ea-f134-43e1-95ad-a5f6056cb9c2"
   },
   "outputs": [],
   "source": [
    "fig, ax = plt.subplots(ncols=1, figsize=(7.25, 4.7))\n",
    "\n",
    "plot_utils.plot_performance_profiles(\n",
    "  score_distributions, ATARI_100K_TAU,\n",
    "  performance_profile_cis=score_distributions_cis,\n",
    "  colors=ATARI_100K_COLOR_DICT,\n",
    "  xlabel=r'Human Normalized Score $(\\tau)$',\n",
    "  labelsize='xx-large',\n",
    "  ax=ax)\n",
    "\n",
    "ax.axhline(0.5, ls='--', color='k', alpha=0.4)\n",
    "fake_patches = [mpatches.Patch(color=ATARI_100K_COLOR_DICT[alg], \n",
    "                               alpha=0.75) for alg in algorithms]\n",
    "legend = fig.legend(fake_patches, algorithms, loc='upper center', \n",
    "                    fancybox=True, ncol=3, \n",
    "                    fontsize='x-large',\n",
    "                    bbox_to_anchor=(0.57, 0.93))\n",
    "save_fig(fig, 'performance_profile')"
   ]
  },
  {
   "cell_type": "markdown",
   "metadata": {
    "id": "3kmNgRii94Ee"
   },
   "source": [
    "# Probability of improvement"
   ]
  },
  {
   "cell_type": "code",
   "execution_count": null,
   "metadata": {
    "colab": {
     "base_uri": "https://localhost:8080/"
    },
    "id": "62YrK4dn98fs",
    "outputId": "2b7ec982-c96d-4283-cdae-9937e71b14f5"
   },
   "outputs": [],
   "source": [
    "algorithms = ['SimPLe', 'CURL', 'DrQ', 'SPR', 'IRIS (ours)']\n",
    "our_algorithm = 'IRIS (ours)'\n",
    "all_pairs =  {}\n",
    "for alg in (algorithms):\n",
    "    if alg == our_algorithm:\n",
    "        continue\n",
    "    pair_name = f'{our_algorithm}_{alg}'\n",
    "    all_pairs[pair_name] = (all_score_dict[our_algorithm], all_score_dict[alg]) \n",
    "\n",
    "probabilities, probability_cis = {}, {}\n",
    "reps = 1000\n",
    "probabilities, probability_cis = rly.get_interval_estimates(all_pairs, metrics.probability_of_improvement, reps=reps)"
   ]
  },
  {
   "cell_type": "code",
   "execution_count": null,
   "metadata": {
    "colab": {
     "base_uri": "https://localhost:8080/",
     "height": 248
    },
    "id": "hT5A8wyu-Fpo",
    "outputId": "8bd6d523-0e57-4417-b120-dceb6cad9a7a"
   },
   "outputs": [],
   "source": [
    "fig, ax = plt.subplots(figsize=(4, 3))\n",
    "h = 0.6\n",
    "algorithm_labels = []\n",
    "\n",
    "for i, (alg_pair, prob) in enumerate(probabilities.items()):\n",
    "    _, alg1 = alg_pair.split('_')\n",
    "    algorithm_labels.append(alg1)\n",
    "    (l, u) = probability_cis[alg_pair]\n",
    "    ax.barh(y=i, width=u-l, height=h, left=l, color=ATARI_100K_COLOR_DICT[alg1], alpha=0.75)\n",
    "    ax.vlines(x=prob, ymin=i-7.5 * h/16, ymax=i+(6*h/16), color='k', alpha=0.85)\n",
    "\n",
    "ax.set_yticks(range(len(algorithm_labels)))\n",
    "ax.set_yticklabels(algorithm_labels)\n",
    "\n",
    "ax.set_xlim(0, 1)\n",
    "ax.axvline(0.5, ls='--', color='k', alpha=0.4)\n",
    "ax.set_title(fr'P(IRIS > $Y$)', size='xx-large')\n",
    "plot_utils._annotate_and_decorate_axis(ax, labelsize='xx-large', ticklabelsize='xx-large')\n",
    "ax.set_ylabel(r'Algorithm $Y$', size='xx-large')\n",
    "ax.xaxis.set_major_locator(MaxNLocator(4))\n",
    "fig.subplots_adjust(wspace=0.25, hspace=0.45)\n",
    "save_fig(fig, 'probability_of_improvement')"
   ]
  },
  {
   "cell_type": "markdown",
   "metadata": {},
   "source": [
    "# Detailed results"
   ]
  },
  {
   "cell_type": "code",
   "execution_count": null,
   "metadata": {},
   "outputs": [],
   "source": [
    "for k in aggregate_scores.keys():\n",
    "    n_runs, n_games = all_score_dict[k].shape\n",
    "    assert n_games == 26\n",
    "    score_dict = score_data_dict_games[k]\n",
    "    mean, median, iqm, og = aggregate_scores[k]\n",
    "    sh = np.sum(np.mean(all_score_dict[k], axis=0) >= 1)\n",
    "    print(f\"\\n####################\\n{k}\\n####################\\n\")\n",
    "    print(f\"{n_runs} runs\")\n",
    "    print(f\"#superhuman: {sh}\\nMean: {mean:.3f}\\nMedian: {median:.3f}\\nIQM: {iqm:.3f}\\nOptimality gap: {og:.3f}\\n\")\n",
    "        \n",
    "    for game in score_dict.keys():\n",
    "        h, r = HUMAN_SCORES[game], RANDOM_SCORES[game]\n",
    "        raw_score = score_dict[game] * (h - r) + r\n",
    "        print(f\"{game}: {np.mean(raw_score): .1f}\")"
   ]
  },
  {
   "cell_type": "markdown",
   "metadata": {},
   "source": [
    "# Generate $\\LaTeX$ results table"
   ]
  },
  {
   "cell_type": "code",
   "execution_count": null,
   "metadata": {},
   "outputs": [],
   "source": [
    "# Utility to print the latex table\n",
    "\n",
    "first_row = [\"Game\", \"Random\", \"Human\", \"MuZero\", \"EfficientZero\", \"SimPLe\", \"CURL\", \"DrQ\", \"SPR\", r\"\\textsc{iris} (ours)\"]\n",
    "rows = [first_row]\n",
    "\n",
    "# Raw scores\n",
    "\n",
    "for game in ATARI_100K_GAMES:\n",
    "    raw_scores = [RANDOM_SCORES[game], HUMAN_SCORES[game]]\n",
    "    raw_scores.extend([np.mean(score_data_dict_games[algo][game] * (HUMAN_SCORES[game] - RANDOM_SCORES[game]) + RANDOM_SCORES[game]) for algo in aggregate_scores.keys()])\n",
    "    idx_max_baselines = 4 + np.argmax(raw_scores[4:])\n",
    "    idx_max_all = 2 + np.argmax(raw_scores[2:])\n",
    "    raw_scores = [f\"{x:.1f}\" for x in raw_scores]\n",
    "    raw_scores[idx_max_baselines] = f\"\\\\textbf{{{raw_scores[idx_max_baselines]}}}\"\n",
    "    raw_scores[idx_max_all] = f\"\\\\underline{{{raw_scores[idx_max_all]}}}\"\n",
    "    row = [game, *raw_scores]\n",
    "    rows.append(row)\n",
    "\n",
    "# Aggregates \n",
    "\n",
    "first_col = [\"\\\\#Superhuman (↑)\", \"Mean (↑)\", \"Median (↑)\", \"IQM (↑)\", \"Optimality Gap (↓)\"]\n",
    "cols = [\n",
    "    [0, 0, 0, 0, 1], # Random\n",
    "    [float('-inf'), 1, 1, 1, 0], # Human\n",
    "]\n",
    "for algo in aggregate_scores.keys():\n",
    "    n_runs, n_games = all_score_dict[algo].shape\n",
    "    assert n_games == len(ATARI_100K_GAMES)\n",
    "    score_dict = score_data_dict_games[algo]\n",
    "    sh = np.sum(np.mean(all_score_dict[algo], axis=0) >= 1)\n",
    "    col = [sh, *aggregate_scores[algo]]\n",
    "    cols.append(col)\n",
    "\n",
    "rows_ = np.array(cols).T\n",
    "for i, row in enumerate(rows_):\n",
    "    idx_best_baselines = 4 + (np.argmin(row[4:]) if i == len(rows_) - 1 else np.argmax(row[4:]))\n",
    "    idx_best_all = 2 + (np.argmin(row[2:]) if i == len(rows_) - 1 else np.argmax(row[2:]))\n",
    "    row = [f\"{x:.{0 if i == 0 else 3}f}\" if not math.isinf(x) else 'N/A' for x in row]\n",
    "    row[idx_best_baselines] = f\"\\\\textbf{{{row[idx_best_baselines]}}}\"\n",
    "    row[idx_best_all] = f\"\\\\underline{{{row[idx_best_all]}}}\"\n",
    "    rows.append([first_col[i]] + row)\n",
    "    \n",
    "    # IQM and OG are N/A for MuZero and EfficientZero.  \n",
    "    if i >= 3:\n",
    "        rows[-1][3:5] = ['N/A'] * 2\n",
    "        #rows[-1][3:5] = 'N/A' \n",
    "\n",
    "rows = np.array(rows)\n",
    "for i in range(rows.shape[1]):\n",
    "    max_len = max(map(len, rows[:, i])) + 1\n",
    "    rows[:, i] = list(map(lambda x: x.ljust(max_len), rows[:, i]))\n",
    "\n",
    "rows = ['  &  '.join(row) for row in rows]\n",
    "\n",
    "for i, row in enumerate(rows):\n",
    "    print(row + r'  \\\\')\n",
    "    if i in [0, 26]:\n",
    "        print(r\"\\midrule\")\n"
   ]
  }
 ],
 "metadata": {
  "colab": {
   "collapsed_sections": [],
   "name": "Copy of deep_rl_precipice_colab.ipynb",
   "provenance": []
  },
  "kernelspec": {
   "display_name": "Python 3 (ipykernel)",
   "language": "python",
   "name": "python3"
  },
  "language_info": {
   "codemirror_mode": {
    "name": "ipython",
    "version": 3
   },
   "file_extension": ".py",
   "mimetype": "text/x-python",
   "name": "python",
   "nbconvert_exporter": "python",
   "pygments_lexer": "ipython3",
   "version": "3.8.12"
  }
 },
 "nbformat": 4,
 "nbformat_minor": 1
}
